{
 "cells": [
  {
   "cell_type": "code",
   "execution_count": 1,
   "id": "5702500f",
   "metadata": {},
   "outputs": [],
   "source": [
    "import pandas as pd\n",
    "import numpy as np\n",
    "import seaborn as sns\n",
    "import matplotlib.pyplot as plt"
   ]
  },
  {
   "cell_type": "code",
   "execution_count": 2,
   "id": "1080b5af",
   "metadata": {},
   "outputs": [],
   "source": [
    "df = pd.read_csv('IMDBDataset/IMDB Dataset.csv')"
   ]
  },
  {
   "cell_type": "code",
   "execution_count": 3,
   "id": "3d2ddb80",
   "metadata": {},
   "outputs": [
    {
     "data": {
      "text/html": [
       "<div>\n",
       "<style scoped>\n",
       "    .dataframe tbody tr th:only-of-type {\n",
       "        vertical-align: middle;\n",
       "    }\n",
       "\n",
       "    .dataframe tbody tr th {\n",
       "        vertical-align: top;\n",
       "    }\n",
       "\n",
       "    .dataframe thead th {\n",
       "        text-align: right;\n",
       "    }\n",
       "</style>\n",
       "<table border=\"1\" class=\"dataframe\">\n",
       "  <thead>\n",
       "    <tr style=\"text-align: right;\">\n",
       "      <th></th>\n",
       "      <th>review</th>\n",
       "      <th>sentiment</th>\n",
       "    </tr>\n",
       "  </thead>\n",
       "  <tbody>\n",
       "    <tr>\n",
       "      <th>0</th>\n",
       "      <td>One of the other reviewers has mentioned that ...</td>\n",
       "      <td>positive</td>\n",
       "    </tr>\n",
       "    <tr>\n",
       "      <th>1</th>\n",
       "      <td>A wonderful little production. &lt;br /&gt;&lt;br /&gt;The...</td>\n",
       "      <td>positive</td>\n",
       "    </tr>\n",
       "    <tr>\n",
       "      <th>2</th>\n",
       "      <td>I thought this was a wonderful way to spend ti...</td>\n",
       "      <td>positive</td>\n",
       "    </tr>\n",
       "    <tr>\n",
       "      <th>3</th>\n",
       "      <td>Basically there's a family where a little boy ...</td>\n",
       "      <td>negative</td>\n",
       "    </tr>\n",
       "    <tr>\n",
       "      <th>4</th>\n",
       "      <td>Petter Mattei's \"Love in the Time of Money\" is...</td>\n",
       "      <td>positive</td>\n",
       "    </tr>\n",
       "    <tr>\n",
       "      <th>...</th>\n",
       "      <td>...</td>\n",
       "      <td>...</td>\n",
       "    </tr>\n",
       "    <tr>\n",
       "      <th>49995</th>\n",
       "      <td>I thought this movie did a down right good job...</td>\n",
       "      <td>positive</td>\n",
       "    </tr>\n",
       "    <tr>\n",
       "      <th>49996</th>\n",
       "      <td>Bad plot, bad dialogue, bad acting, idiotic di...</td>\n",
       "      <td>negative</td>\n",
       "    </tr>\n",
       "    <tr>\n",
       "      <th>49997</th>\n",
       "      <td>I am a Catholic taught in parochial elementary...</td>\n",
       "      <td>negative</td>\n",
       "    </tr>\n",
       "    <tr>\n",
       "      <th>49998</th>\n",
       "      <td>I'm going to have to disagree with the previou...</td>\n",
       "      <td>negative</td>\n",
       "    </tr>\n",
       "    <tr>\n",
       "      <th>49999</th>\n",
       "      <td>No one expects the Star Trek movies to be high...</td>\n",
       "      <td>negative</td>\n",
       "    </tr>\n",
       "  </tbody>\n",
       "</table>\n",
       "<p>50000 rows × 2 columns</p>\n",
       "</div>"
      ],
      "text/plain": [
       "                                                  review sentiment\n",
       "0      One of the other reviewers has mentioned that ...  positive\n",
       "1      A wonderful little production. <br /><br />The...  positive\n",
       "2      I thought this was a wonderful way to spend ti...  positive\n",
       "3      Basically there's a family where a little boy ...  negative\n",
       "4      Petter Mattei's \"Love in the Time of Money\" is...  positive\n",
       "...                                                  ...       ...\n",
       "49995  I thought this movie did a down right good job...  positive\n",
       "49996  Bad plot, bad dialogue, bad acting, idiotic di...  negative\n",
       "49997  I am a Catholic taught in parochial elementary...  negative\n",
       "49998  I'm going to have to disagree with the previou...  negative\n",
       "49999  No one expects the Star Trek movies to be high...  negative\n",
       "\n",
       "[50000 rows x 2 columns]"
      ]
     },
     "execution_count": 3,
     "metadata": {},
     "output_type": "execute_result"
    }
   ],
   "source": [
    "df"
   ]
  },
  {
   "cell_type": "markdown",
   "id": "33dcc362",
   "metadata": {},
   "source": [
    "### Tujuan : Menebak Sentiment dari sebuah review film"
   ]
  },
  {
   "cell_type": "markdown",
   "id": "1664d2a2",
   "metadata": {},
   "source": [
    "### Menganalisa Data Review Film"
   ]
  },
  {
   "cell_type": "markdown",
   "id": "ae926964",
   "metadata": {},
   "source": [
    "Cari Total Char & Total Word -> apakah Panjang kata memiliki korelasi positif terhadap review positif?"
   ]
  },
  {
   "cell_type": "code",
   "execution_count": 4,
   "id": "b9c08914",
   "metadata": {},
   "outputs": [],
   "source": [
    "df['total_char'] = df['review'].apply(lambda x: len(x))\n",
    "df['total_word'] = df['review'].apply(lambda x: len(x.split(\" \")))"
   ]
  },
  {
   "cell_type": "code",
   "execution_count": 5,
   "id": "be3758f0",
   "metadata": {},
   "outputs": [
    {
     "data": {
      "text/html": [
       "<div>\n",
       "<style scoped>\n",
       "    .dataframe tbody tr th:only-of-type {\n",
       "        vertical-align: middle;\n",
       "    }\n",
       "\n",
       "    .dataframe tbody tr th {\n",
       "        vertical-align: top;\n",
       "    }\n",
       "\n",
       "    .dataframe thead th {\n",
       "        text-align: right;\n",
       "    }\n",
       "</style>\n",
       "<table border=\"1\" class=\"dataframe\">\n",
       "  <thead>\n",
       "    <tr style=\"text-align: right;\">\n",
       "      <th></th>\n",
       "      <th>total_char</th>\n",
       "      <th>total_word</th>\n",
       "    </tr>\n",
       "  </thead>\n",
       "  <tbody>\n",
       "    <tr>\n",
       "      <th>0</th>\n",
       "      <td>1761</td>\n",
       "      <td>307</td>\n",
       "    </tr>\n",
       "    <tr>\n",
       "      <th>1</th>\n",
       "      <td>998</td>\n",
       "      <td>162</td>\n",
       "    </tr>\n",
       "    <tr>\n",
       "      <th>2</th>\n",
       "      <td>926</td>\n",
       "      <td>166</td>\n",
       "    </tr>\n",
       "    <tr>\n",
       "      <th>3</th>\n",
       "      <td>748</td>\n",
       "      <td>138</td>\n",
       "    </tr>\n",
       "    <tr>\n",
       "      <th>4</th>\n",
       "      <td>1317</td>\n",
       "      <td>230</td>\n",
       "    </tr>\n",
       "    <tr>\n",
       "      <th>...</th>\n",
       "      <td>...</td>\n",
       "      <td>...</td>\n",
       "    </tr>\n",
       "    <tr>\n",
       "      <th>49995</th>\n",
       "      <td>1008</td>\n",
       "      <td>194</td>\n",
       "    </tr>\n",
       "    <tr>\n",
       "      <th>49996</th>\n",
       "      <td>642</td>\n",
       "      <td>112</td>\n",
       "    </tr>\n",
       "    <tr>\n",
       "      <th>49997</th>\n",
       "      <td>1280</td>\n",
       "      <td>230</td>\n",
       "    </tr>\n",
       "    <tr>\n",
       "      <th>49998</th>\n",
       "      <td>1234</td>\n",
       "      <td>212</td>\n",
       "    </tr>\n",
       "    <tr>\n",
       "      <th>49999</th>\n",
       "      <td>678</td>\n",
       "      <td>129</td>\n",
       "    </tr>\n",
       "  </tbody>\n",
       "</table>\n",
       "<p>50000 rows × 2 columns</p>\n",
       "</div>"
      ],
      "text/plain": [
       "       total_char  total_word\n",
       "0            1761         307\n",
       "1             998         162\n",
       "2             926         166\n",
       "3             748         138\n",
       "4            1317         230\n",
       "...           ...         ...\n",
       "49995        1008         194\n",
       "49996         642         112\n",
       "49997        1280         230\n",
       "49998        1234         212\n",
       "49999         678         129\n",
       "\n",
       "[50000 rows x 2 columns]"
      ]
     },
     "execution_count": 5,
     "metadata": {},
     "output_type": "execute_result"
    }
   ],
   "source": [
    "df[['total_char', 'total_word']]"
   ]
  },
  {
   "cell_type": "code",
   "execution_count": 6,
   "id": "1324f49c",
   "metadata": {},
   "outputs": [
    {
     "name": "stderr",
     "output_type": "stream",
     "text": [
      "C:\\Users\\bdrex\\anaconda3\\lib\\site-packages\\seaborn\\distributions.py:2619: FutureWarning: `distplot` is a deprecated function and will be removed in a future version. Please adapt your code to use either `displot` (a figure-level function with similar flexibility) or `histplot` (an axes-level function for histograms).\n",
      "  warnings.warn(msg, FutureWarning)\n"
     ]
    },
    {
     "data": {
      "text/plain": [
       "<AxesSubplot:xlabel='total_char', ylabel='Density'>"
      ]
     },
     "execution_count": 6,
     "metadata": {},
     "output_type": "execute_result"
    },
    {
     "data": {
      "image/png": "[encoded data removed]",
      "text/plain": [
       "<Figure size 640x480 with 1 Axes>"
      ]
     },
     "metadata": {},
     "output_type": "display_data"
    }
   ],
   "source": [
    "sns.distplot(df['total_char'])"
   ]
  },
  {
   "cell_type": "code",
   "execution_count": 7,
   "id": "656243d8",
   "metadata": {},
   "outputs": [
    {
     "name": "stdout",
     "output_type": "stream",
     "text": [
      "1309.43102\n",
      "970.0\n"
     ]
    }
   ],
   "source": [
    "print(df['total_char'].mean())\n",
    "print(df['total_char'].median())"
   ]
  },
  {
   "cell_type": "code",
   "execution_count": 8,
   "id": "e0cae500",
   "metadata": {
    "scrolled": false
   },
   "outputs": [
    {
     "name": "stderr",
     "output_type": "stream",
     "text": [
      "C:\\Users\\bdrex\\anaconda3\\lib\\site-packages\\seaborn\\distributions.py:2619: FutureWarning: `distplot` is a deprecated function and will be removed in a future version. Please adapt your code to use either `displot` (a figure-level function with similar flexibility) or `histplot` (an axes-level function for histograms).\n",
      "  warnings.warn(msg, FutureWarning)\n"
     ]
    },
    {
     "data": {
      "text/plain": [
       "<AxesSubplot:xlabel='total_word', ylabel='Density'>"
      ]
     },
     "execution_count": 8,
     "metadata": {},
     "output_type": "execute_result"
    },
    {
     "data": {
      "image/png": "[encoded data removed]",
      "text/plain": [
       "<Figure size 640x480 with 1 Axes>"
      ]
     },
     "metadata": {},
     "output_type": "display_data"
    }
   ],
   "source": [
    "sns.distplot(df['total_word'])"
   ]
  },
  {
   "cell_type": "code",
   "execution_count": 9,
   "id": "aeb54c97",
   "metadata": {},
   "outputs": [
    {
     "name": "stdout",
     "output_type": "stream",
     "text": [
      "231.14594\n",
      "173.0\n"
     ]
    }
   ],
   "source": [
    "print(df['total_word'].mean())\n",
    "print(df['total_word'].median())"
   ]
  },
  {
   "cell_type": "code",
   "execution_count": 10,
   "id": "e9c7acf9",
   "metadata": {},
   "outputs": [
    {
     "data": {
      "text/plain": [
       "positive    25000\n",
       "negative    25000\n",
       "Name: sentiment, dtype: int64"
      ]
     },
     "execution_count": 10,
     "metadata": {},
     "output_type": "execute_result"
    }
   ],
   "source": [
    "df['sentiment'].value_counts()"
   ]
  },
  {
   "cell_type": "code",
   "execution_count": 11,
   "id": "9ddd1cfb",
   "metadata": {},
   "outputs": [],
   "source": [
    "df['label']  = df['sentiment'].apply(lambda x: 1 if x == 'positive' else 0)"
   ]
  },
  {
   "cell_type": "code",
   "execution_count": 12,
   "id": "3723b995",
   "metadata": {},
   "outputs": [
    {
     "data": {
      "text/html": [
       "<div>\n",
       "<style scoped>\n",
       "    .dataframe tbody tr th:only-of-type {\n",
       "        vertical-align: middle;\n",
       "    }\n",
       "\n",
       "    .dataframe tbody tr th {\n",
       "        vertical-align: top;\n",
       "    }\n",
       "\n",
       "    .dataframe thead th {\n",
       "        text-align: right;\n",
       "    }\n",
       "</style>\n",
       "<table border=\"1\" class=\"dataframe\">\n",
       "  <thead>\n",
       "    <tr style=\"text-align: right;\">\n",
       "      <th></th>\n",
       "      <th>total_char</th>\n",
       "      <th>total_word</th>\n",
       "      <th>label</th>\n",
       "    </tr>\n",
       "  </thead>\n",
       "  <tbody>\n",
       "    <tr>\n",
       "      <th>total_char</th>\n",
       "      <td>1.000000</td>\n",
       "      <td>0.996827</td>\n",
       "      <td>0.015526</td>\n",
       "    </tr>\n",
       "    <tr>\n",
       "      <th>total_word</th>\n",
       "      <td>0.996827</td>\n",
       "      <td>1.000000</td>\n",
       "      <td>0.009875</td>\n",
       "    </tr>\n",
       "    <tr>\n",
       "      <th>label</th>\n",
       "      <td>0.015526</td>\n",
       "      <td>0.009875</td>\n",
       "      <td>1.000000</td>\n",
       "    </tr>\n",
       "  </tbody>\n",
       "</table>\n",
       "</div>"
      ],
      "text/plain": [
       "            total_char  total_word     label\n",
       "total_char    1.000000    0.996827  0.015526\n",
       "total_word    0.996827    1.000000  0.009875\n",
       "label         0.015526    0.009875  1.000000"
      ]
     },
     "execution_count": 12,
     "metadata": {},
     "output_type": "execute_result"
    }
   ],
   "source": [
    "df[['total_char', 'total_word','label']].corr()"
   ]
  },
  {
   "cell_type": "code",
   "execution_count": 13,
   "id": "0eac471b",
   "metadata": {},
   "outputs": [],
   "source": [
    "q1 = np.quantile(df['total_word'], 0.25)\n",
    "q3 = np.quantile(df['total_word'], 0.75)\n",
    "iqr = q3-q1\n",
    "upper_limit = q3 + (1.5*iqr)"
   ]
  },
  {
   "cell_type": "code",
   "execution_count": 14,
   "id": "43b0dd2a",
   "metadata": {},
   "outputs": [],
   "source": [
    "index_to_drop = df.loc[df.total_word>=upper_limit].index"
   ]
  },
  {
   "cell_type": "code",
   "execution_count": 15,
   "id": "7c06606b",
   "metadata": {},
   "outputs": [],
   "source": [
    "df = df.drop(index_to_drop)"
   ]
  },
  {
   "cell_type": "code",
   "execution_count": 16,
   "id": "94562635",
   "metadata": {},
   "outputs": [
    {
     "name": "stderr",
     "output_type": "stream",
     "text": [
      "C:\\Users\\bdrex\\anaconda3\\lib\\site-packages\\seaborn\\distributions.py:2619: FutureWarning: `distplot` is a deprecated function and will be removed in a future version. Please adapt your code to use either `displot` (a figure-level function with similar flexibility) or `histplot` (an axes-level function for histograms).\n",
      "  warnings.warn(msg, FutureWarning)\n"
     ]
    },
    {
     "data": {
      "text/plain": [
       "<AxesSubplot:xlabel='total_char', ylabel='Density'>"
      ]
     },
     "execution_count": 16,
     "metadata": {},
     "output_type": "execute_result"
    },
    {
     "data": {
      "image/png": "[encoded data removed]",
      "text/plain": [
       "<Figure size 640x480 with 1 Axes>"
      ]
     },
     "metadata": {},
     "output_type": "display_data"
    }
   ],
   "source": [
    "sns.distplot(df['total_char'])"
   ]
  },
  {
   "cell_type": "markdown",
   "id": "4297fe11",
   "metadata": {},
   "source": [
    "Berapa jumlah kalimat dalam 1 buah review (definisikan 'kalimat' itu apa?)"
   ]
  },
  {
   "cell_type": "code",
   "execution_count": 17,
   "id": "56df89f3",
   "metadata": {},
   "outputs": [],
   "source": [
    "# Kalimat = paragraf splitted by '.'\n",
    "df['kalimat'] = df['review'].apply(lambda x: x.split(\".\"))\n",
    "df['kalimat_v2'] = df['review'].apply(lambda x: x.split(\". \"))"
   ]
  },
  {
   "cell_type": "code",
   "execution_count": 18,
   "id": "74901f7e",
   "metadata": {},
   "outputs": [],
   "source": [
    "df['total_kalimat'] = df['kalimat_v2'].apply(lambda x: len(x))"
   ]
  },
  {
   "cell_type": "code",
   "execution_count": 19,
   "id": "761d4489",
   "metadata": {},
   "outputs": [
    {
     "data": {
      "text/html": [
       "<div>\n",
       "<style scoped>\n",
       "    .dataframe tbody tr th:only-of-type {\n",
       "        vertical-align: middle;\n",
       "    }\n",
       "\n",
       "    .dataframe tbody tr th {\n",
       "        vertical-align: top;\n",
       "    }\n",
       "\n",
       "    .dataframe thead th {\n",
       "        text-align: right;\n",
       "    }\n",
       "</style>\n",
       "<table border=\"1\" class=\"dataframe\">\n",
       "  <thead>\n",
       "    <tr style=\"text-align: right;\">\n",
       "      <th></th>\n",
       "      <th>total_kalimat</th>\n",
       "      <th>label</th>\n",
       "    </tr>\n",
       "  </thead>\n",
       "  <tbody>\n",
       "    <tr>\n",
       "      <th>total_kalimat</th>\n",
       "      <td>1.000000</td>\n",
       "      <td>-0.031774</td>\n",
       "    </tr>\n",
       "    <tr>\n",
       "      <th>label</th>\n",
       "      <td>-0.031774</td>\n",
       "      <td>1.000000</td>\n",
       "    </tr>\n",
       "  </tbody>\n",
       "</table>\n",
       "</div>"
      ],
      "text/plain": [
       "               total_kalimat     label\n",
       "total_kalimat       1.000000 -0.031774\n",
       "label              -0.031774  1.000000"
      ]
     },
     "execution_count": 19,
     "metadata": {},
     "output_type": "execute_result"
    }
   ],
   "source": [
    "df[['total_kalimat','label']].corr()"
   ]
  },
  {
   "cell_type": "markdown",
   "id": "7693ee5b",
   "metadata": {},
   "source": [
    "\n",
    "Cari Berapa Jumlah Kata Positive/Negative dalam review tersebut"
   ]
  },
  {
   "cell_type": "code",
   "execution_count": 20,
   "id": "5d55a1a2",
   "metadata": {},
   "outputs": [],
   "source": [
    "positive_words = []\n",
    "with open('IMDBDataset/positive-words.txt', 'r') as f:\n",
    "    for x in f:\n",
    "        if \";\" in x:\n",
    "            continue\n",
    "        elif len(x.strip())>0:\n",
    "            positive_words.append(x.strip())"
   ]
  },
  {
   "cell_type": "code",
   "execution_count": 21,
   "id": "809cea61",
   "metadata": {},
   "outputs": [],
   "source": [
    "negative_words = []\n",
    "with open('IMDBDataset/negative-words.txt', 'r') as f:\n",
    "    for x in f:\n",
    "        if \";\" in x:\n",
    "            continue\n",
    "        elif len(x.strip())>0:\n",
    "            negative_words.append(x.strip())"
   ]
  },
  {
   "cell_type": "code",
   "execution_count": 22,
   "id": "06b0841d",
   "metadata": {},
   "outputs": [],
   "source": [
    "df['words'] = df['review'].apply(lambda x: x.split())"
   ]
  },
  {
   "cell_type": "code",
   "execution_count": 1,
   "id": "a8342f2e",
   "metadata": {},
   "outputs": [],
   "source": [
    "from tqdm import tqdm"
   ]
  },
  {
   "cell_type": "code",
   "execution_count": 24,
   "id": "ccba637d",
   "metadata": {
    "scrolled": true
   },
   "outputs": [
    {
     "name": "stdout",
     "output_type": "stream",
     "text": [
      "Requirement already satisfied: tqdm in c:\\users\\bdrex\\anaconda3\\lib\\site-packages (4.64.1)\n",
      "Requirement already satisfied: colorama in c:\\users\\bdrex\\anaconda3\\lib\\site-packages (from tqdm) (0.4.6)\n"
     ]
    }
   ],
   "source": [
    "!pip install tqdm"
   ]
  },
  {
   "cell_type": "code",
   "execution_count": 34,
   "id": "6bf71d9b",
   "metadata": {},
   "outputs": [],
   "source": [
    "unique_words = []\n",
    "for sentence in df['words']:\n",
    "    for word in sentence:\n",
    "        unique_words.append(word.lower())"
   ]
  },
  {
   "cell_type": "code",
   "execution_count": 37,
   "id": "0e850f4a",
   "metadata": {},
   "outputs": [],
   "source": [
    "unique_words = list(set(unique_words))"
   ]
  },
  {
   "cell_type": "code",
   "execution_count": 42,
   "id": "8279c6d1",
   "metadata": {},
   "outputs": [],
   "source": [
    "word_to_index = {}\n",
    "for idx,word in enumerate(unique_words):\n",
    "    word_to_index[word] = idx"
   ]
  },
  {
   "cell_type": "code",
   "execution_count": 44,
   "id": "86b3f5c9",
   "metadata": {},
   "outputs": [],
   "source": [
    "index_to_word = {}\n",
    "for word,idx in word_to_index.items():\n",
    "    index_to_word[idx] = word"
   ]
  },
  {
   "cell_type": "code",
   "execution_count": 47,
   "id": "6cd5b547",
   "metadata": {},
   "outputs": [],
   "source": [
    "new_sentiment_words = positive_words + negative_words"
   ]
  },
  {
   "cell_type": "code",
   "execution_count": 50,
   "id": "b3b42818",
   "metadata": {},
   "outputs": [
    {
     "data": {
      "text/plain": [
       "330191"
      ]
     },
     "execution_count": 50,
     "metadata": {},
     "output_type": "execute_result"
    }
   ],
   "source": [
    "len(word_to_index)"
   ]
  },
  {
   "cell_type": "code",
   "execution_count": 51,
   "id": "0c27e62f",
   "metadata": {},
   "outputs": [],
   "source": [
    "for word in new_sentiment_words:\n",
    "    try:\n",
    "        word_to_index[word]\n",
    "    except KeyError:\n",
    "        word_to_index[word] = len(word_to_index)"
   ]
  },
  {
   "cell_type": "code",
   "execution_count": 54,
   "id": "13cf36d2",
   "metadata": {},
   "outputs": [],
   "source": [
    "index_to_word = {}\n",
    "for word,idx in word_to_index.items():\n",
    "    index_to_word[idx] = word"
   ]
  },
  {
   "cell_type": "code",
   "execution_count": 25,
   "id": "e50131ae",
   "metadata": {
    "scrolled": false
   },
   "outputs": [
    {
     "name": "stderr",
     "output_type": "stream",
     "text": [
      "  0%|                                                                                        | 0/46277 [00:00<?, ?it/s]\n"
     ]
    }
   ],
   "source": [
    "for row in tqdm(df['words']):\n",
    "    jumlah_positive_words = 0\n",
    "    jumlah_negative_words = 0\n",
    "    for positive_word in positive_words:\n",
    "        if positive_word in row:\n",
    "            jumlah_positive_words = jumlah_positive_words + 1\n",
    "\n",
    "    for negative_word in negative_words:\n",
    "        if positive_word in row:\n",
    "            jumlah_negative_words = jumlah_negative_words + 1"
   ]
  },
  {
   "cell_type": "code",
   "execution_count": 59,
   "id": "54bda3a3",
   "metadata": {},
   "outputs": [
    {
     "name": "stderr",
     "output_type": "stream",
     "text": [
      "100%|█████████████████████████████████████████████████████████████████████████| 46277/46277 [00:03<00:00, 13828.34it/s]\n"
     ]
    }
   ],
   "source": [
    "new_df_words = []\n",
    "for sentence in tqdm(df['words']):\n",
    "    new_sentence = []\n",
    "    for word in sentence:\n",
    "        new_sentence.append(word_to_index.get(word.lower(), -1))\n",
    "    new_df_words.append(new_sentence)"
   ]
  },
  {
   "cell_type": "code",
   "execution_count": 61,
   "id": "27035927",
   "metadata": {},
   "outputs": [],
   "source": [
    "new_positive_words = [word_to_index.get(word.lower(), -1) for word in positive_words]\n",
    "new_negative_words = [word_to_index.get(word.lower(), -1) for word in negative_words]"
   ]
  },
  {
   "cell_type": "code",
   "execution_count": 67,
   "id": "5c68cab1",
   "metadata": {},
   "outputs": [
    {
     "name": "stderr",
     "output_type": "stream",
     "text": [
      "100%|███████████████████████████████████████████████████████████████████████████| 46277/46277 [06:29<00:00, 118.78it/s]\n"
     ]
    }
   ],
   "source": [
    "# jumlah_positive_words_column = []\n",
    "jumlah_negative_words_column = []\n",
    "for row in tqdm(new_df_words):\n",
    "    jumlah_positive_words = 0\n",
    "    jumlah_negative_words = 0\n",
    "#     for positive_word in new_positive_words:\n",
    "#         if positive_word in row:\n",
    "#             jumlah_positive_words = jumlah_positive_words + 1\n",
    "\n",
    "    for negative_word in new_negative_words:\n",
    "        if negative_word in row:\n",
    "            jumlah_negative_words = jumlah_negative_words + 1\n",
    "#     jumlah_positive_words_column.append(jumlah_positive_words)\n",
    "    jumlah_negative_words_column.append(jumlah_negative_words)"
   ]
  },
  {
   "cell_type": "code",
   "execution_count": 69,
   "id": "5c48f92d",
   "metadata": {},
   "outputs": [],
   "source": [
    "df['jumlah_positive_words'] = jumlah_positive_words_column\n",
    "df['jumlah_negative_words'] = jumlah_negative_words_column"
   ]
  },
  {
   "cell_type": "code",
   "execution_count": 71,
   "id": "b2c8d284",
   "metadata": {},
   "outputs": [
    {
     "data": {
      "text/html": [
       "<div>\n",
       "<style scoped>\n",
       "    .dataframe tbody tr th:only-of-type {\n",
       "        vertical-align: middle;\n",
       "    }\n",
       "\n",
       "    .dataframe tbody tr th {\n",
       "        vertical-align: top;\n",
       "    }\n",
       "\n",
       "    .dataframe thead th {\n",
       "        text-align: right;\n",
       "    }\n",
       "</style>\n",
       "<table border=\"1\" class=\"dataframe\">\n",
       "  <thead>\n",
       "    <tr style=\"text-align: right;\">\n",
       "      <th></th>\n",
       "      <th>jumlah_positive_words</th>\n",
       "      <th>jumlah_negative_words</th>\n",
       "      <th>label</th>\n",
       "    </tr>\n",
       "  </thead>\n",
       "  <tbody>\n",
       "    <tr>\n",
       "      <th>jumlah_positive_words</th>\n",
       "      <td>1.000000</td>\n",
       "      <td>0.356043</td>\n",
       "      <td>0.268308</td>\n",
       "    </tr>\n",
       "    <tr>\n",
       "      <th>jumlah_negative_words</th>\n",
       "      <td>0.356043</td>\n",
       "      <td>1.000000</td>\n",
       "      <td>-0.254691</td>\n",
       "    </tr>\n",
       "    <tr>\n",
       "      <th>label</th>\n",
       "      <td>0.268308</td>\n",
       "      <td>-0.254691</td>\n",
       "      <td>1.000000</td>\n",
       "    </tr>\n",
       "  </tbody>\n",
       "</table>\n",
       "</div>"
      ],
      "text/plain": [
       "                       jumlah_positive_words  jumlah_negative_words     label\n",
       "jumlah_positive_words               1.000000               0.356043  0.268308\n",
       "jumlah_negative_words               0.356043               1.000000 -0.254691\n",
       "label                               0.268308              -0.254691  1.000000"
      ]
     },
     "execution_count": 71,
     "metadata": {},
     "output_type": "execute_result"
    }
   ],
   "source": [
    "df[['jumlah_positive_words','jumlah_negative_words','label']].corr()"
   ]
  },
  {
   "cell_type": "code",
   "execution_count": 76,
   "id": "4a755bac",
   "metadata": {
    "scrolled": false
   },
   "outputs": [
    {
     "name": "stderr",
     "output_type": "stream",
     "text": [
      "C:\\Users\\bdrex\\anaconda3\\lib\\site-packages\\seaborn\\_decorators.py:36: FutureWarning: Pass the following variables as keyword args: x, y. From version 0.12, the only valid positional argument will be `data`, and passing other arguments without an explicit keyword will result in an error or misinterpretation.\n",
      "  warnings.warn(\n"
     ]
    },
    {
     "data": {
      "text/plain": [
       "<AxesSubplot:xlabel='label', ylabel='jumlah_positive_words'>"
      ]
     },
     "execution_count": 76,
     "metadata": {},
     "output_type": "execute_result"
    },
    {
     "data": {
      "image/png": "[encoded data removed]",
      "text/plain": [
       "<Figure size 640x480 with 1 Axes>"
      ]
     },
     "metadata": {},
     "output_type": "display_data"
    }
   ],
   "source": [
    "sns.scatterplot(df['label'], df['jumlah_positive_words'])"
   ]
  },
  {
   "cell_type": "code",
   "execution_count": 75,
   "id": "87368c68",
   "metadata": {
    "scrolled": false
   },
   "outputs": [
    {
     "name": "stderr",
     "output_type": "stream",
     "text": [
      "C:\\Users\\bdrex\\anaconda3\\lib\\site-packages\\seaborn\\_decorators.py:36: FutureWarning: Pass the following variables as keyword args: x, y. From version 0.12, the only valid positional argument will be `data`, and passing other arguments without an explicit keyword will result in an error or misinterpretation.\n",
      "  warnings.warn(\n"
     ]
    },
    {
     "data": {
      "text/plain": [
       "<AxesSubplot:xlabel='label', ylabel='jumlah_negative_words'>"
      ]
     },
     "execution_count": 75,
     "metadata": {},
     "output_type": "execute_result"
    },
    {
     "data": {
      "image/png": "[encoded data removed]",
      "text/plain": [
       "<Figure size 640x480 with 1 Axes>"
      ]
     },
     "metadata": {},
     "output_type": "display_data"
    }
   ],
   "source": [
    "sns.scatterplot(df['label'], df['jumlah_negative_words'])"
   ]
  },
  {
   "cell_type": "code",
   "execution_count": 79,
   "id": "f0139821",
   "metadata": {
    "scrolled": false
   },
   "outputs": [
    {
     "name": "stderr",
     "output_type": "stream",
     "text": [
      "C:\\Users\\bdrex\\anaconda3\\lib\\site-packages\\seaborn\\distributions.py:2619: FutureWarning: `distplot` is a deprecated function and will be removed in a future version. Please adapt your code to use either `displot` (a figure-level function with similar flexibility) or `histplot` (an axes-level function for histograms).\n",
      "  warnings.warn(msg, FutureWarning)\n"
     ]
    },
    {
     "data": {
      "text/plain": [
       "<AxesSubplot:xlabel='jumlah_negative_words', ylabel='Density'>"
      ]
     },
     "execution_count": 79,
     "metadata": {},
     "output_type": "execute_result"
    },
    {
     "data": {
      "image/png": "[encoded data removed]",
      "text/plain": [
       "<Figure size 640x480 with 1 Axes>"
      ]
     },
     "metadata": {},
     "output_type": "display_data"
    }
   ],
   "source": [
    "sns.distplot(df['jumlah_negative_words'])"
   ]
  },
  {
   "cell_type": "code",
   "execution_count": 80,
   "id": "142cd2a2",
   "metadata": {
    "scrolled": false
   },
   "outputs": [
    {
     "name": "stderr",
     "output_type": "stream",
     "text": [
      "C:\\Users\\bdrex\\anaconda3\\lib\\site-packages\\seaborn\\distributions.py:2619: FutureWarning: `distplot` is a deprecated function and will be removed in a future version. Please adapt your code to use either `displot` (a figure-level function with similar flexibility) or `histplot` (an axes-level function for histograms).\n",
      "  warnings.warn(msg, FutureWarning)\n"
     ]
    },
    {
     "data": {
      "text/plain": [
       "<AxesSubplot:xlabel='jumlah_positive_words', ylabel='Density'>"
      ]
     },
     "execution_count": 80,
     "metadata": {},
     "output_type": "execute_result"
    },
    {
     "data": {
      "image/png": "[encoded data removed]",
      "text/plain": [
       "<Figure size 640x480 with 1 Axes>"
      ]
     },
     "metadata": {},
     "output_type": "display_data"
    }
   ],
   "source": [
    "sns.distplot(df['jumlah_positive_words'])"
   ]
  },
  {
   "cell_type": "code",
   "execution_count": 85,
   "id": "019cb169",
   "metadata": {},
   "outputs": [
    {
     "data": {
      "text/plain": [
       "5.0"
      ]
     },
     "execution_count": 85,
     "metadata": {},
     "output_type": "execute_result"
    }
   ],
   "source": [
    "df['jumlah_positive_words'].median()"
   ]
  },
  {
   "cell_type": "markdown",
   "id": "b2963c94",
   "metadata": {},
   "source": [
    "kata negative apa yang paling sering digunakan(mungkin menjadi acuan dasar sensor kata pada review yang ada) (cari dictionary of kata negative)"
   ]
  },
  {
   "cell_type": "code",
   "execution_count": 93,
   "id": "ad16696b",
   "metadata": {},
   "outputs": [
    {
     "name": "stderr",
     "output_type": "stream",
     "text": [
      "100%|██████████████████████████████████████████████████████████████████████████████| 4783/4783 [10:09<00:00,  7.84it/s]\n"
     ]
    }
   ],
   "source": [
    "calculate_kemunculan_negative_words = {}\n",
    "\n",
    "for new_negative_word in tqdm(new_negative_words):\n",
    "    for sentence in new_df_words:\n",
    "        if new_negative_word in sentence:\n",
    "            try:\n",
    "                calculate_kemunculan_negative_words[new_negative_word] += 1\n",
    "            except KeyError:\n",
    "                calculate_kemunculan_negative_words[new_negative_word] = 1"
   ]
  },
  {
   "cell_type": "code",
   "execution_count": null,
   "id": "f4408eed",
   "metadata": {},
   "outputs": [],
   "source": []
  },
  {
   "cell_type": "code",
   "execution_count": 95,
   "id": "80bfece6",
   "metadata": {},
   "outputs": [],
   "source": [
    "words = [word for sentence in new_df_words for word in sentence]# result: list of element dengan jumlah row = column * row awal."
   ]
  },
  {
   "cell_type": "code",
   "execution_count": null,
   "id": "000a3e4a",
   "metadata": {},
   "outputs": [],
   "source": [
    "# [[do_something_for_element(element) for element in list_2] for list_2 in list_1] # result: list of list dengan jumlah row yang sama dengan aslinya."
   ]
  },
  {
   "cell_type": "code",
   "execution_count": 114,
   "id": "3630ccf5",
   "metadata": {},
   "outputs": [
    {
     "data": {
      "text/plain": [
       "Counter({124491: 35341,\n",
       "         253690: 218835,\n",
       "         251357: 490232,\n",
       "         201312: 12668,\n",
       "         96095: 357,\n",
       "         71350: 24799,\n",
       "         327696: 565,\n",
       "         201358: 98865,\n",
       "         320138: 10567,\n",
       "         268888: 7043,\n",
       "         230274: 27465,\n",
       "         248940: 1078,\n",
       "         210487: 97,\n",
       "         248078: 1856,\n",
       "         302816: 2154,\n",
       "         286021: 39845,\n",
       "         263664: 48,\n",
       "         41773: 31142,\n",
       "         251849: 44265,\n",
       "         199149: 313,\n",
       "         40544: 66305,\n",
       "         163297: 117696,\n",
       "         12608: 161161,\n",
       "         73918: 1376,\n",
       "         9441: 21818,\n",
       "         104100: 1191,\n",
       "         132977: 64044,\n",
       "         292212: 322,\n",
       "         184738: 78348,\n",
       "         127105: 11216,\n",
       "         300501: 12075,\n",
       "         283533: 5728,\n",
       "         130676: 193,\n",
       "         82702: 12995,\n",
       "         305777: 25445,\n",
       "         238344: 76719,\n",
       "         97095: 12039,\n",
       "         262435: 72,\n",
       "         216968: 244246,\n",
       "         265131: 18,\n",
       "         83054: 6093,\n",
       "         37665: 315,\n",
       "         74105: 15530,\n",
       "         319131: 2957,\n",
       "         285823: 136102,\n",
       "         15724: 3462,\n",
       "         48562: 29984,\n",
       "         258980: 1004,\n",
       "         132829: 232,\n",
       "         53880: 400,\n",
       "         109600: 1694,\n",
       "         202884: 45006,\n",
       "         573: 246970,\n",
       "         167941: 7756,\n",
       "         192058: 65644,\n",
       "         273984: 54,\n",
       "         53492: 91,\n",
       "         54100: 25368,\n",
       "         179060: 2,\n",
       "         96343: 271,\n",
       "         168610: 17468,\n",
       "         158900: 60,\n",
       "         140130: 78,\n",
       "         186590: 201332,\n",
       "         36863: 131,\n",
       "         275821: 1849,\n",
       "         228342: 217,\n",
       "         25784: 7,\n",
       "         107335: 2077,\n",
       "         256339: 2528,\n",
       "         182010: 7,\n",
       "         16458: 1620,\n",
       "         257504: 1926,\n",
       "         219024: 29,\n",
       "         274722: 2463,\n",
       "         73440: 14,\n",
       "         298648: 60,\n",
       "         227096: 220,\n",
       "         101666: 543,\n",
       "         137401: 1,\n",
       "         63076: 105973,\n",
       "         68614: 255,\n",
       "         92180: 578,\n",
       "         176670: 48547,\n",
       "         267635: 7,\n",
       "         110725: 194,\n",
       "         20201: 32490,\n",
       "         34486: 114,\n",
       "         103427: 202,\n",
       "         304118: 420,\n",
       "         193417: 8795,\n",
       "         232142: 30495,\n",
       "         313330: 49,\n",
       "         29797: 43683,\n",
       "         17803: 151,\n",
       "         129004: 11,\n",
       "         89075: 1560,\n",
       "         7665: 1,\n",
       "         181960: 28692,\n",
       "         168184: 11,\n",
       "         114538: 2774,\n",
       "         128019: 20,\n",
       "         92052: 43,\n",
       "         291479: 1039,\n",
       "         287778: 1887,\n",
       "         307855: 1,\n",
       "         138537: 7,\n",
       "         242144: 1,\n",
       "         265882: 7,\n",
       "         313565: 14,\n",
       "         135969: 6,\n",
       "         113420: 274,\n",
       "         116973: 1,\n",
       "         117528: 1,\n",
       "         282999: 1753,\n",
       "         296311: 5,\n",
       "         291032: 68,\n",
       "         104630: 19,\n",
       "         291832: 48,\n",
       "         20253: 5,\n",
       "         206470: 9809,\n",
       "         147614: 3996,\n",
       "         283194: 87,\n",
       "         322885: 6493,\n",
       "         97535: 18865,\n",
       "         76856: 7150,\n",
       "         313615: 3585,\n",
       "         29225: 530,\n",
       "         216671: 1268,\n",
       "         329746: 3796,\n",
       "         81505: 3336,\n",
       "         87047: 3232,\n",
       "         298199: 1603,\n",
       "         295362: 9,\n",
       "         95795: 965,\n",
       "         261024: 5701,\n",
       "         239756: 454,\n",
       "         261520: 123,\n",
       "         118646: 237,\n",
       "         69946: 65,\n",
       "         24075: 67,\n",
       "         69932: 1,\n",
       "         204454: 6611,\n",
       "         208980: 553,\n",
       "         156155: 321,\n",
       "         120240: 121775,\n",
       "         280665: 8606,\n",
       "         87592: 5331,\n",
       "         55498: 403,\n",
       "         248327: 43,\n",
       "         121644: 2430,\n",
       "         258972: 467,\n",
       "         130050: 4892,\n",
       "         255883: 61580,\n",
       "         207456: 3788,\n",
       "         299166: 352,\n",
       "         224631: 426,\n",
       "         131719: 458,\n",
       "         34636: 31,\n",
       "         81639: 5632,\n",
       "         126970: 44,\n",
       "         273962: 201,\n",
       "         198338: 316,\n",
       "         302897: 52,\n",
       "         28859: 1,\n",
       "         68287: 73,\n",
       "         228402: 28,\n",
       "         168076: 217,\n",
       "         288619: 22637,\n",
       "         47551: 2,\n",
       "         250213: 43,\n",
       "         235176: 1530,\n",
       "         161703: 1151,\n",
       "         224542: 13950,\n",
       "         260729: 3009,\n",
       "         304020: 9321,\n",
       "         256245: 6,\n",
       "         62354: 1069,\n",
       "         279045: 851,\n",
       "         129943: 9470,\n",
       "         246228: 1400,\n",
       "         173738: 12831,\n",
       "         65199: 9,\n",
       "         181631: 16621,\n",
       "         242971: 1599,\n",
       "         162568: 640,\n",
       "         114185: 253,\n",
       "         73499: 3,\n",
       "         209029: 46313,\n",
       "         151265: 4833,\n",
       "         280039: 2052,\n",
       "         96314: 134,\n",
       "         145873: 175,\n",
       "         87780: 1,\n",
       "         161716: 25021,\n",
       "         267489: 16742,\n",
       "         800: 555,\n",
       "         169299: 9483,\n",
       "         142874: 124,\n",
       "         247186: 133,\n",
       "         111316: 2306,\n",
       "         264328: 9413,\n",
       "         85360: 290,\n",
       "         269807: 9044,\n",
       "         206207: 480,\n",
       "         315750: 143,\n",
       "         320183: 22219,\n",
       "         261750: 1,\n",
       "         314316: 1,\n",
       "         310665: 252,\n",
       "         151599: 2286,\n",
       "         275894: 3,\n",
       "         103148: 1545,\n",
       "         181954: 2,\n",
       "         178865: 2467,\n",
       "         145716: 265,\n",
       "         237195: 2149,\n",
       "         178132: 118,\n",
       "         8476: 5646,\n",
       "         234444: 1664,\n",
       "         8544: 1,\n",
       "         273755: 1662,\n",
       "         36194: 97,\n",
       "         11990: 17722,\n",
       "         145923: 7,\n",
       "         148199: 1,\n",
       "         70273: 35412,\n",
       "         233126: 253,\n",
       "         158673: 4260,\n",
       "         250449: 160,\n",
       "         194415: 119,\n",
       "         247041: 2698,\n",
       "         22110: 17318,\n",
       "         149994: 22,\n",
       "         134553: 783,\n",
       "         302417: 31,\n",
       "         237998: 32176,\n",
       "         30970: 351,\n",
       "         53184: 33,\n",
       "         87527: 38,\n",
       "         175620: 11,\n",
       "         266570: 3898,\n",
       "         316125: 5,\n",
       "         88787: 1774,\n",
       "         209721: 250,\n",
       "         153009: 133,\n",
       "         138582: 2111,\n",
       "         220709: 13157,\n",
       "         194579: 20,\n",
       "         164431: 3420,\n",
       "         247709: 39492,\n",
       "         296221: 1606,\n",
       "         139837: 18058,\n",
       "         141871: 3430,\n",
       "         125655: 42,\n",
       "         68168: 588,\n",
       "         90569: 151,\n",
       "         307371: 262,\n",
       "         136789: 3798,\n",
       "         324205: 14764,\n",
       "         31294: 293,\n",
       "         139455: 2,\n",
       "         78809: 153,\n",
       "         322096: 571,\n",
       "         200784: 655,\n",
       "         11125: 10462,\n",
       "         62141: 14,\n",
       "         250548: 3343,\n",
       "         323564: 3577,\n",
       "         69586: 307,\n",
       "         219208: 24,\n",
       "         286716: 1445,\n",
       "         144671: 176,\n",
       "         94016: 15,\n",
       "         283610: 5,\n",
       "         277664: 946,\n",
       "         249580: 74,\n",
       "         200717: 503,\n",
       "         103888: 1,\n",
       "         199715: 1,\n",
       "         245632: 6,\n",
       "         53438: 6269,\n",
       "         289703: 5,\n",
       "         233530: 401,\n",
       "         295506: 515,\n",
       "         177125: 5166,\n",
       "         217847: 8833,\n",
       "         56319: 777,\n",
       "         308239: 12346,\n",
       "         31161: 9571,\n",
       "         296005: 772,\n",
       "         286212: 401,\n",
       "         222695: 43,\n",
       "         46677: 647,\n",
       "         262987: 631,\n",
       "         136897: 15,\n",
       "         138031: 882,\n",
       "         216315: 85,\n",
       "         40001: 658,\n",
       "         319725: 8007,\n",
       "         303688: 16,\n",
       "         116923: 1663,\n",
       "         254350: 313,\n",
       "         110652: 8451,\n",
       "         329070: 394,\n",
       "         182182: 349,\n",
       "         186949: 49,\n",
       "         210136: 69,\n",
       "         108775: 464,\n",
       "         270925: 3,\n",
       "         179712: 6711,\n",
       "         211738: 23755,\n",
       "         141699: 876,\n",
       "         37184: 20362,\n",
       "         95078: 913,\n",
       "         213527: 526,\n",
       "         320978: 3253,\n",
       "         327216: 84,\n",
       "         306900: 157,\n",
       "         11834: 16,\n",
       "         23233: 171,\n",
       "         163729: 225,\n",
       "         91553: 293,\n",
       "         61180: 7758,\n",
       "         101469: 537,\n",
       "         145171: 517,\n",
       "         217795: 1479,\n",
       "         65673: 10179,\n",
       "         308113: 4527,\n",
       "         305803: 304,\n",
       "         75798: 80,\n",
       "         215545: 3773,\n",
       "         230285: 12808,\n",
       "         67280: 1992,\n",
       "         189421: 583,\n",
       "         2038: 34671,\n",
       "         133138: 15,\n",
       "         1997: 452,\n",
       "         260326: 5103,\n",
       "         232938: 6,\n",
       "         326521: 1,\n",
       "         301934: 5380,\n",
       "         116312: 13903,\n",
       "         26574: 480,\n",
       "         201026: 38,\n",
       "         51203: 1,\n",
       "         327314: 16646,\n",
       "         235755: 642,\n",
       "         266490: 500,\n",
       "         279687: 22094,\n",
       "         80877: 7,\n",
       "         309551: 415,\n",
       "         14286: 120,\n",
       "         10645: 90,\n",
       "         43829: 91,\n",
       "         8385: 4926,\n",
       "         182177: 33,\n",
       "         174814: 43,\n",
       "         311227: 81,\n",
       "         277858: 175,\n",
       "         267419: 4,\n",
       "         1618: 12,\n",
       "         2962: 223,\n",
       "         276827: 1,\n",
       "         196259: 19907,\n",
       "         132437: 3907,\n",
       "         22564: 6,\n",
       "         34301: 6914,\n",
       "         268644: 281,\n",
       "         323159: 1148,\n",
       "         164304: 4102,\n",
       "         191005: 3368,\n",
       "         55510: 1533,\n",
       "         54282: 2,\n",
       "         171823: 645,\n",
       "         137479: 687,\n",
       "         314007: 84,\n",
       "         138673: 3690,\n",
       "         272734: 860,\n",
       "         321452: 717,\n",
       "         228093: 498,\n",
       "         159226: 53999,\n",
       "         80731: 62,\n",
       "         51333: 379,\n",
       "         18342: 1,\n",
       "         150461: 63,\n",
       "         253990: 113,\n",
       "         228: 727,\n",
       "         279168: 61,\n",
       "         299793: 3,\n",
       "         262294: 72,\n",
       "         235657: 3072,\n",
       "         15913: 5925,\n",
       "         19340: 12063,\n",
       "         278729: 44087,\n",
       "         149661: 4866,\n",
       "         137714: 692,\n",
       "         179626: 745,\n",
       "         234514: 12,\n",
       "         263715: 1316,\n",
       "         296424: 115,\n",
       "         10133: 7,\n",
       "         106174: 60,\n",
       "         292996: 30007,\n",
       "         283021: 6385,\n",
       "         35887: 13244,\n",
       "         104126: 2222,\n",
       "         216621: 138,\n",
       "         112191: 299,\n",
       "         123872: 886,\n",
       "         212106: 20,\n",
       "         85448: 1152,\n",
       "         60844: 6818,\n",
       "         196783: 2312,\n",
       "         50254: 135,\n",
       "         158801: 4,\n",
       "         253165: 44,\n",
       "         57091: 2322,\n",
       "         56779: 2284,\n",
       "         132277: 94,\n",
       "         125097: 24,\n",
       "         258366: 1067,\n",
       "         280805: 1,\n",
       "         192314: 239,\n",
       "         40837: 1928,\n",
       "         143816: 1,\n",
       "         192800: 6,\n",
       "         51825: 83,\n",
       "         111014: 10,\n",
       "         209235: 286,\n",
       "         296337: 460,\n",
       "         134028: 1032,\n",
       "         199225: 1536,\n",
       "         76677: 17,\n",
       "         286422: 494,\n",
       "         307177: 127,\n",
       "         306009: 182,\n",
       "         276334: 1985,\n",
       "         261075: 10,\n",
       "         13825: 5069,\n",
       "         175883: 738,\n",
       "         261479: 349,\n",
       "         45093: 933,\n",
       "         119972: 542,\n",
       "         38849: 12444,\n",
       "         173141: 12076,\n",
       "         169484: 3173,\n",
       "         94284: 493,\n",
       "         215101: 18,\n",
       "         20606: 68,\n",
       "         237205: 321,\n",
       "         324366: 2,\n",
       "         229361: 2820,\n",
       "         121470: 5797,\n",
       "         162599: 105,\n",
       "         145136: 4598,\n",
       "         119878: 17,\n",
       "         244451: 3772,\n",
       "         324229: 642,\n",
       "         67965: 5697,\n",
       "         95815: 687,\n",
       "         285206: 7799,\n",
       "         2689: 812,\n",
       "         143857: 9,\n",
       "         24332: 3830,\n",
       "         77728: 186,\n",
       "         176873: 1204,\n",
       "         86712: 5660,\n",
       "         86529: 2225,\n",
       "         84496: 191,\n",
       "         65166: 8587,\n",
       "         4254: 967,\n",
       "         28535: 18,\n",
       "         182712: 1,\n",
       "         9484: 152,\n",
       "         173801: 23,\n",
       "         91429: 166,\n",
       "         161710: 1430,\n",
       "         42948: 13214,\n",
       "         29938: 1927,\n",
       "         133620: 3586,\n",
       "         21836: 4148,\n",
       "         231757: 1,\n",
       "         243695: 4666,\n",
       "         183707: 127,\n",
       "         16465: 1466,\n",
       "         118841: 78,\n",
       "         240247: 72,\n",
       "         29271: 4,\n",
       "         3100: 4905,\n",
       "         197819: 8791,\n",
       "         135746: 2370,\n",
       "         147631: 99,\n",
       "         65144: 6341,\n",
       "         275088: 113,\n",
       "         292552: 3,\n",
       "         27390: 1,\n",
       "         295454: 1471,\n",
       "         74143: 3,\n",
       "         54899: 8239,\n",
       "         93246: 19829,\n",
       "         281058: 1688,\n",
       "         161191: 248,\n",
       "         247378: 507,\n",
       "         319048: 9,\n",
       "         168548: 30,\n",
       "         82981: 17,\n",
       "         145378: 134,\n",
       "         69757: 41,\n",
       "         24677: 4,\n",
       "         168341: 66,\n",
       "         144263: 1,\n",
       "         165132: 2463,\n",
       "         302779: 833,\n",
       "         205372: 679,\n",
       "         68705: 4468,\n",
       "         288899: 24,\n",
       "         133538: 248,\n",
       "         123776: 1576,\n",
       "         236945: 236,\n",
       "         144418: 30,\n",
       "         173106: 20,\n",
       "         47681: 897,\n",
       "         162106: 4226,\n",
       "         95509: 20180,\n",
       "         298507: 163,\n",
       "         227589: 1849,\n",
       "         243517: 13779,\n",
       "         224802: 2,\n",
       "         103251: 108,\n",
       "         262139: 47,\n",
       "         261244: 126,\n",
       "         21009: 22,\n",
       "         328988: 24635,\n",
       "         82716: 67,\n",
       "         252106: 559,\n",
       "         231058: 272,\n",
       "         89002: 1729,\n",
       "         84252: 3558,\n",
       "         253602: 8911,\n",
       "         225727: 633,\n",
       "         246029: 3209,\n",
       "         231735: 4076,\n",
       "         180876: 224,\n",
       "         324508: 791,\n",
       "         255846: 892,\n",
       "         85353: 2,\n",
       "         162758: 3250,\n",
       "         134271: 868,\n",
       "         51951: 337,\n",
       "         20064: 181,\n",
       "         75165: 162,\n",
       "         226859: 47,\n",
       "         135491: 6079,\n",
       "         259027: 279,\n",
       "         30033: 237,\n",
       "         36920: 48,\n",
       "         91731: 2251,\n",
       "         69796: 335,\n",
       "         2223: 46,\n",
       "         64062: 161,\n",
       "         52011: 1,\n",
       "         319021: 1,\n",
       "         137527: 263,\n",
       "         36499: 6455,\n",
       "         2375: 8074,\n",
       "         132493: 3130,\n",
       "         154415: 142,\n",
       "         135795: 1149,\n",
       "         38748: 44,\n",
       "         168259: 1016,\n",
       "         308018: 342,\n",
       "         302456: 61,\n",
       "         50301: 741,\n",
       "         163298: 4,\n",
       "         214893: 17032,\n",
       "         158982: 243,\n",
       "         29461: 6,\n",
       "         190818: 188,\n",
       "         162973: 3,\n",
       "         295800: 9651,\n",
       "         310615: 3323,\n",
       "         323368: 29,\n",
       "         272579: 16127,\n",
       "         130340: 258,\n",
       "         250599: 2,\n",
       "         77287: 3395,\n",
       "         54719: 52,\n",
       "         264294: 625,\n",
       "         89450: 1240,\n",
       "         277705: 5921,\n",
       "         171608: 1300,\n",
       "         190281: 203,\n",
       "         69013: 4,\n",
       "         71460: 388,\n",
       "         180704: 2578,\n",
       "         186727: 1592,\n",
       "         16725: 3605,\n",
       "         301729: 7,\n",
       "         233495: 16510,\n",
       "         112968: 69,\n",
       "         186960: 1,\n",
       "         150018: 377,\n",
       "         165586: 58,\n",
       "         246003: 270,\n",
       "         307104: 1,\n",
       "         17817: 2642,\n",
       "         204445: 1156,\n",
       "         239913: 572,\n",
       "         96873: 4420,\n",
       "         213933: 519,\n",
       "         244859: 1,\n",
       "         186459: 579,\n",
       "         47772: 17,\n",
       "         188861: 1019,\n",
       "         111975: 17,\n",
       "         262352: 1,\n",
       "         176289: 11415,\n",
       "         245759: 22,\n",
       "         42212: 3833,\n",
       "         264355: 230,\n",
       "         44913: 1,\n",
       "         243017: 2680,\n",
       "         291610: 2842,\n",
       "         204179: 730,\n",
       "         4591: 811,\n",
       "         262363: 1,\n",
       "         131642: 24,\n",
       "         310540: 1782,\n",
       "         3432: 2450,\n",
       "         324079: 1,\n",
       "         192218: 1406,\n",
       "         52996: 956,\n",
       "         87651: 1,\n",
       "         148137: 472,\n",
       "         279469: 9542,\n",
       "         256038: 169,\n",
       "         291141: 433,\n",
       "         174250: 124,\n",
       "         175362: 2610,\n",
       "         308388: 379,\n",
       "         80623: 20,\n",
       "         132296: 531,\n",
       "         277433: 530,\n",
       "         118061: 188,\n",
       "         98455: 4707,\n",
       "         233973: 152,\n",
       "         256551: 6780,\n",
       "         65990: 1308,\n",
       "         27868: 24,\n",
       "         125474: 4531,\n",
       "         154960: 83,\n",
       "         258544: 152,\n",
       "         112076: 62,\n",
       "         189070: 607,\n",
       "         78164: 1513,\n",
       "         55638: 2402,\n",
       "         233586: 63,\n",
       "         102017: 1015,\n",
       "         184741: 29,\n",
       "         65121: 3,\n",
       "         108323: 1526,\n",
       "         232591: 328,\n",
       "         277428: 1388,\n",
       "         12736: 2054,\n",
       "         122704: 4594,\n",
       "         324154: 11480,\n",
       "         215885: 14408,\n",
       "         126908: 258,\n",
       "         40946: 1603,\n",
       "         148771: 17,\n",
       "         146292: 1,\n",
       "         209364: 107,\n",
       "         198427: 3518,\n",
       "         225713: 91,\n",
       "         48532: 1,\n",
       "         59956: 3951,\n",
       "         36315: 4610,\n",
       "         132322: 12001,\n",
       "         239193: 290,\n",
       "         235555: 560,\n",
       "         250864: 37,\n",
       "         276876: 17,\n",
       "         32987: 282,\n",
       "         147039: 7183,\n",
       "         219130: 139,\n",
       "         90296: 696,\n",
       "         102580: 115,\n",
       "         126137: 2,\n",
       "         14302: 2237,\n",
       "         19828: 5421,\n",
       "         249380: 2409,\n",
       "         164485: 1730,\n",
       "         247330: 549,\n",
       "         283895: 11019,\n",
       "         226423: 1406,\n",
       "         256647: 144,\n",
       "         304544: 881,\n",
       "         203976: 590,\n",
       "         15314: 5588,\n",
       "         59531: 47,\n",
       "         189803: 720,\n",
       "         281936: 1040,\n",
       "         382: 4396,\n",
       "         12620: 3382,\n",
       "         35945: 861,\n",
       "         90016: 7394,\n",
       "         146502: 106,\n",
       "         220896: 1,\n",
       "         167980: 7427,\n",
       "         289150: 4207,\n",
       "         322004: 1591,\n",
       "         100198: 40,\n",
       "         326502: 215,\n",
       "         137781: 62,\n",
       "         164406: 208,\n",
       "         162951: 1,\n",
       "         246233: 926,\n",
       "         91766: 2082,\n",
       "         102509: 1314,\n",
       "         148447: 1105,\n",
       "         137367: 808,\n",
       "         300109: 912,\n",
       "         47380: 179,\n",
       "         91589: 3462,\n",
       "         50675: 2343,\n",
       "         263581: 1141,\n",
       "         47619: 13,\n",
       "         261309: 3293,\n",
       "         313138: 1116,\n",
       "         5027: 1797,\n",
       "         230693: 36,\n",
       "         247390: 461,\n",
       "         203839: 1120,\n",
       "         40171: 5416,\n",
       "         226463: 677,\n",
       "         147353: 43,\n",
       "         20736: 1197,\n",
       "         10134: 1,\n",
       "         88678: 111,\n",
       "         275715: 38,\n",
       "         156052: 4220,\n",
       "         17212: 3701,\n",
       "         219578: 4296,\n",
       "         88908: 167,\n",
       "         103036: 3,\n",
       "         157585: 92,\n",
       "         293620: 57,\n",
       "         66737: 39,\n",
       "         251549: 222,\n",
       "         226897: 13959,\n",
       "         24126: 5553,\n",
       "         38757: 8875,\n",
       "         132283: 1043,\n",
       "         186982: 18593,\n",
       "         16770: 371,\n",
       "         263982: 2451,\n",
       "         137087: 1375,\n",
       "         258678: 104,\n",
       "         157647: 1,\n",
       "         227369: 116,\n",
       "         245847: 468,\n",
       "         233592: 7071,\n",
       "         219617: 214,\n",
       "         20952: 511,\n",
       "         251622: 2041,\n",
       "         292312: 4529,\n",
       "         118603: 10,\n",
       "         11880: 3134,\n",
       "         228023: 1057,\n",
       "         68700: 2,\n",
       "         295404: 249,\n",
       "         58478: 670,\n",
       "         10631: 40,\n",
       "         86435: 6823,\n",
       "         305221: 1192,\n",
       "         131476: 34,\n",
       "         312402: 133,\n",
       "         16399: 1980,\n",
       "         44209: 1848,\n",
       "         187034: 9,\n",
       "         237716: 1679,\n",
       "         144235: 5,\n",
       "         189390: 20577,\n",
       "         23442: 1324,\n",
       "         267751: 818,\n",
       "         44799: 1878,\n",
       "         26077: 38,\n",
       "         328283: 1042,\n",
       "         325591: 37,\n",
       "         213572: 28931,\n",
       "         257958: 165,\n",
       "         9605: 1,\n",
       "         227176: 495,\n",
       "         26740: 6798,\n",
       "         189522: 7566,\n",
       "         147242: 2559,\n",
       "         271866: 7,\n",
       "         5922: 10,\n",
       "         10146: 318,\n",
       "         23145: 2562,\n",
       "         269088: 1305,\n",
       "         318000: 288,\n",
       "         120841: 83,\n",
       "         104575: 6073,\n",
       "         46250: 146,\n",
       "         73768: 323,\n",
       "         133572: 1964,\n",
       "         136905: 27,\n",
       "         75564: 15,\n",
       "         134269: 3,\n",
       "         55102: 190,\n",
       "         109035: 35,\n",
       "         10434: 968,\n",
       "         296949: 844,\n",
       "         287918: 509,\n",
       "         220674: 310,\n",
       "         67970: 3,\n",
       "         153638: 544,\n",
       "         234779: 245,\n",
       "         286577: 895,\n",
       "         9706: 1469,\n",
       "         58359: 8979,\n",
       "         6574: 1443,\n",
       "         221414: 275,\n",
       "         20761: 165,\n",
       "         184503: 2694,\n",
       "         256587: 2883,\n",
       "         207313: 4369,\n",
       "         98089: 1077,\n",
       "         90641: 214,\n",
       "         129871: 116,\n",
       "         101427: 545,\n",
       "         323995: 1287,\n",
       "         293318: 1794,\n",
       "         29208: 13597,\n",
       "         38202: 1106,\n",
       "         95585: 156,\n",
       "         129887: 2100,\n",
       "         4037: 860,\n",
       "         97828: 36,\n",
       "         27768: 4601,\n",
       "         324956: 141,\n",
       "         117637: 41,\n",
       "         120315: 88,\n",
       "         255455: 544,\n",
       "         25695: 172,\n",
       "         293285: 2453,\n",
       "         259889: 176,\n",
       "         111686: 66,\n",
       "         147628: 16,\n",
       "         243125: 25,\n",
       "         289074: 2240,\n",
       "         221791: 491,\n",
       "         45485: 1697,\n",
       "         17647: 496,\n",
       "         273301: 356,\n",
       "         35188: 4096,\n",
       "         276894: 64,\n",
       "         235609: 1885,\n",
       "         80929: 973,\n",
       "         58695: 927,\n",
       "         36782: 18,\n",
       "         237414: 45,\n",
       "         42075: 41,\n",
       "         92070: 134,\n",
       "         52424: 2607,\n",
       "         146644: 20,\n",
       "         227593: 2807,\n",
       "         50531: 291,\n",
       "         207405: 2072,\n",
       "         263644: 14,\n",
       "         82418: 95,\n",
       "         69309: 37,\n",
       "         133305: 89,\n",
       "         291924: 1039,\n",
       "         248901: 791,\n",
       "         107805: 206,\n",
       "         149652: 400,\n",
       "         42826: 4102,\n",
       "         130603: 752,\n",
       "         329733: 5069,\n",
       "         76076: 1380,\n",
       "         162574: 1545,\n",
       "         42465: 1,\n",
       "         15121: 51,\n",
       "         9320: 922,\n",
       "         12464: 1,\n",
       "         118610: 10,\n",
       "         120378: 661,\n",
       "         261187: 263,\n",
       "         107779: 5,\n",
       "         104484: 80,\n",
       "         141864: 51,\n",
       "         80245: 609,\n",
       "         21670: 7751,\n",
       "         251100: 22,\n",
       "         313173: 3,\n",
       "         320032: 406,\n",
       "         192984: 1,\n",
       "         116783: 2201,\n",
       "         221101: 2407,\n",
       "         38272: 21,\n",
       "         62388: 1,\n",
       "         294327: 1524,\n",
       "         200274: 1,\n",
       "         106963: 102,\n",
       "         36158: 3101,\n",
       "         226533: 8,\n",
       "         297196: 497,\n",
       "         122479: 305,\n",
       "         306333: 474,\n",
       "         256669: 39,\n",
       "         72504: 2,\n",
       "         46865: 22,\n",
       "         83029: 12,\n",
       "         99340: 7,\n",
       "         30044: 1,\n",
       "         103474: 40,\n",
       "         207512: 6187,\n",
       "         160023: 1,\n",
       "         166042: 4,\n",
       "         256357: 883,\n",
       "         257309: 1843,\n",
       "         148355: 1115,\n",
       "         127887: 13,\n",
       "         179230: 7,\n",
       "         266939: 46,\n",
       "         44293: 714,\n",
       "         14598: 31,\n",
       "         208304: 2,\n",
       "         295284: 1,\n",
       "         254675: 1255,\n",
       "         98729: 1,\n",
       "         128431: 1,\n",
       "         113307: 59,\n",
       "         276136: 3830,\n",
       "         206665: 157,\n",
       "         57917: 2822,\n",
       "         257103: 4700,\n",
       "         183134: 50,\n",
       "         241508: 1859,\n",
       "         36178: 223,\n",
       "         93945: 13046,\n",
       "         214355: 1691,\n",
       "         5544: 95,\n",
       "         320811: 1,\n",
       "         328471: 337,\n",
       "         40843: 887,\n",
       "         309623: 1338,\n",
       "         313649: 7,\n",
       "         33473: 1464,\n",
       "         33099: 609,\n",
       "         249851: 376,\n",
       "         279130: 769,\n",
       "         160865: 1,\n",
       "         143739: 4,\n",
       "         176821: 1,\n",
       "         88452: 2,\n",
       "         208436: 7,\n",
       "         204048: 159,\n",
       "         317228: 10,\n",
       "         18428: 474,\n",
       "         228437: 7,\n",
       "         6414: 16,\n",
       "         157392: 261,\n",
       "         66112: 561,\n",
       "         282679: 67,\n",
       "         255239: 79,\n",
       "         216125: 1229,\n",
       "         192832: 737,\n",
       "         323324: 1,\n",
       "         31696: 1298,\n",
       "         99553: 952,\n",
       "         60156: 1361,\n",
       "         267072: 1,\n",
       "         146750: 1613,\n",
       "         157549: 3,\n",
       "         32995: 1125,\n",
       "         186571: 2,\n",
       "         167197: 27,\n",
       "         67286: 510,\n",
       "         33675: 165,\n",
       "         54464: 533,\n",
       "         255153: 6,\n",
       "         23712: 1245,\n",
       "         111822: 107,\n",
       "         198536: 42,\n",
       "         327743: 8881,\n",
       "         144521: 112,\n",
       "         313332: 252,\n",
       "         19324: 719,\n",
       "         200302: 2627,\n",
       "         5706: 1,\n",
       "         285872: 91,\n",
       "         319894: 153,\n",
       "         34916: 4,\n",
       "         155120: 35,\n",
       "         19777: 1,\n",
       "         320236: 77,\n",
       "         ...})"
      ]
     },
     "execution_count": 114,
     "metadata": {},
     "output_type": "execute_result"
    }
   ],
   "source": [
    "from collections import Counter\n"
   ]
  },
  {
   "cell_type": "code",
   "execution_count": 113,
   "id": "fe2fa398",
   "metadata": {},
   "outputs": [
    {
     "data": {
      "text/plain": [
       "'are'"
      ]
     },
     "execution_count": 113,
     "metadata": {},
     "output_type": "execute_result"
    }
   ],
   "source": [
    "index_to_word[251849]"
   ]
  },
  {
   "cell_type": "code",
   "execution_count": 117,
   "id": "918628a5",
   "metadata": {},
   "outputs": [],
   "source": [
    "top_10_negative = sorted(calculate_kemunculan_negative_words.items(), key=lambda x:x[1], reverse=True)[:10]\n",
    "top_10_negative_two = sorted(Counter(words).items(), key=lambda x:x[1], reverse=True)"
   ]
  },
  {
   "cell_type": "code",
   "execution_count": 108,
   "id": "acb747b1",
   "metadata": {
    "scrolled": true
   },
   "outputs": [
    {
     "name": "stdout",
     "output_type": "stream",
     "text": [
      "bad\n",
      "plot\n",
      "funny\n",
      "worst\n",
      "hard\n",
      "poor\n",
      "waste\n",
      "stupid\n",
      "lost\n",
      "boring\n"
     ]
    }
   ],
   "source": [
    "for x in top_10_negative:\n",
    "    print(index_to_word[x[0]])"
   ]
  },
  {
   "cell_type": "code",
   "execution_count": 122,
   "id": "e2e0713e",
   "metadata": {},
   "outputs": [
    {
     "name": "stdout",
     "output_type": "stream",
     "text": [
      "bad\n",
      "plot\n",
      "funny\n",
      "worst\n",
      "hard\n",
      "poor\n",
      "waste\n",
      "stupid\n",
      "lost\n",
      "boring\n"
     ]
    }
   ],
   "source": [
    "counter = 0\n",
    "for word in top_10_negative_two:\n",
    "    if word[0] in new_negative_words:\n",
    "        print(index_to_word[word[0]])\n",
    "        counter += 1\n",
    "    if counter == 10:\n",
    "        break"
   ]
  },
  {
   "cell_type": "code",
   "execution_count": 125,
   "id": "5a77f54c",
   "metadata": {},
   "outputs": [],
   "source": [
    "top_10_negative_index = [x[0] for x in top_10_negative]"
   ]
  },
  {
   "cell_type": "code",
   "execution_count": 128,
   "id": "1e5535e3",
   "metadata": {},
   "outputs": [
    {
     "name": "stderr",
     "output_type": "stream",
     "text": [
      "100%|█████████████████████████████████████████████████████████████████████████| 46277/46277 [00:00<00:00, 84182.30it/s]\n"
     ]
    }
   ],
   "source": [
    "is_have_top_10_negative_words_columns = []\n",
    "\n",
    "for new_df_word in tqdm(new_df_words):\n",
    "    is_have = False\n",
    "    for negative_word in top_10_negative_index:\n",
    "        if negative_word in new_df_word:\n",
    "            is_have = True\n",
    "            break\n",
    "    is_have_top_10_negative_words_columns.append(is_have)\n",
    "        "
   ]
  },
  {
   "cell_type": "code",
   "execution_count": 133,
   "id": "5b6a2c1f",
   "metadata": {},
   "outputs": [],
   "source": [
    "df['is_have_top_10_negative_words'] = is_have_top_10_negative_words_columns"
   ]
  },
  {
   "cell_type": "code",
   "execution_count": 139,
   "id": "88d4918d",
   "metadata": {},
   "outputs": [
    {
     "data": {
      "text/html": [
       "<div>\n",
       "<style scoped>\n",
       "    .dataframe tbody tr th:only-of-type {\n",
       "        vertical-align: middle;\n",
       "    }\n",
       "\n",
       "    .dataframe tbody tr th {\n",
       "        vertical-align: top;\n",
       "    }\n",
       "\n",
       "    .dataframe thead th {\n",
       "        text-align: right;\n",
       "    }\n",
       "</style>\n",
       "<table border=\"1\" class=\"dataframe\">\n",
       "  <thead>\n",
       "    <tr style=\"text-align: right;\">\n",
       "      <th></th>\n",
       "      <th>is_have_top_10_negative_words</th>\n",
       "      <th>label</th>\n",
       "    </tr>\n",
       "  </thead>\n",
       "  <tbody>\n",
       "    <tr>\n",
       "      <th>is_have_top_10_negative_words</th>\n",
       "      <td>1.000000</td>\n",
       "      <td>-0.301471</td>\n",
       "    </tr>\n",
       "    <tr>\n",
       "      <th>label</th>\n",
       "      <td>-0.301471</td>\n",
       "      <td>1.000000</td>\n",
       "    </tr>\n",
       "  </tbody>\n",
       "</table>\n",
       "</div>"
      ],
      "text/plain": [
       "                               is_have_top_10_negative_words     label\n",
       "is_have_top_10_negative_words                       1.000000 -0.301471\n",
       "label                                              -0.301471  1.000000"
      ]
     },
     "execution_count": 139,
     "metadata": {},
     "output_type": "execute_result"
    }
   ],
   "source": [
    "df[['is_have_top_10_negative_words', 'label']].corr()"
   ]
  },
  {
   "cell_type": "markdown",
   "id": "a4df2ba3",
   "metadata": {},
   "source": [
    "Jumlah Sentiment Terbanyak? (check label)"
   ]
  },
  {
   "cell_type": "code",
   "execution_count": 140,
   "id": "672495a4",
   "metadata": {},
   "outputs": [
    {
     "data": {
      "text/plain": [
       "Counter({1: 22994, 0: 23283})"
      ]
     },
     "execution_count": 140,
     "metadata": {},
     "output_type": "execute_result"
    }
   ],
   "source": [
    "Counter(df['label'])"
   ]
  },
  {
   "cell_type": "markdown",
   "id": "0d4ce849",
   "metadata": {},
   "source": [
    "Untuk emoji bisa mempengaruhi sentiment? (harus tau emoji apa yang di mention di text ini)"
   ]
  },
  {
   "cell_type": "code",
   "execution_count": 171,
   "id": "6ddd5a0e",
   "metadata": {},
   "outputs": [
    {
     "name": "stdout",
     "output_type": "stream",
     "text": [
      "Collecting emot\n",
      "  Downloading emot-3.1-py3-none-any.whl (61 kB)\n",
      "     -------------------------------------- 61.5/61.5 kB 544.9 kB/s eta 0:00:00\n",
      "Installing collected packages: emot\n",
      "Successfully installed emot-3.1\n"
     ]
    }
   ],
   "source": [
    "!pip install emot"
   ]
  },
  {
   "cell_type": "code",
   "execution_count": 209,
   "id": "9617c9d7",
   "metadata": {},
   "outputs": [],
   "source": [
    "import emot"
   ]
  },
  {
   "cell_type": "code",
   "execution_count": 218,
   "id": "bc7ec2d5",
   "metadata": {},
   "outputs": [
    {
     "name": "stderr",
     "output_type": "stream",
     "text": [
      "100%|█████████████████████████████████████████████████████████████████████████| 46277/46277 [00:03<00:00, 13629.65it/s]\n"
     ]
    }
   ],
   "source": [
    "is_have_emoji = []\n",
    "for review in tqdm(df['review']):\n",
    "    is_have = False\n",
    "    for emoji in emot.emo_unicode.EMOTICONS_EMO.keys():\n",
    "        if emoji in review:\n",
    "            is_have = True\n",
    "            break\n",
    "    is_have_emoji.append(is_have)"
   ]
  },
  {
   "cell_type": "code",
   "execution_count": 220,
   "id": "a12d87ce",
   "metadata": {},
   "outputs": [],
   "source": [
    "df['is_have_emoji'] = is_have_emoji"
   ]
  },
  {
   "cell_type": "code",
   "execution_count": 221,
   "id": "4b595eee",
   "metadata": {},
   "outputs": [
    {
     "data": {
      "text/html": [
       "<div>\n",
       "<style scoped>\n",
       "    .dataframe tbody tr th:only-of-type {\n",
       "        vertical-align: middle;\n",
       "    }\n",
       "\n",
       "    .dataframe tbody tr th {\n",
       "        vertical-align: top;\n",
       "    }\n",
       "\n",
       "    .dataframe thead th {\n",
       "        text-align: right;\n",
       "    }\n",
       "</style>\n",
       "<table border=\"1\" class=\"dataframe\">\n",
       "  <thead>\n",
       "    <tr style=\"text-align: right;\">\n",
       "      <th></th>\n",
       "      <th>is_have_emoji</th>\n",
       "      <th>label</th>\n",
       "    </tr>\n",
       "  </thead>\n",
       "  <tbody>\n",
       "    <tr>\n",
       "      <th>is_have_emoji</th>\n",
       "      <td>1.000000</td>\n",
       "      <td>0.004952</td>\n",
       "    </tr>\n",
       "    <tr>\n",
       "      <th>label</th>\n",
       "      <td>0.004952</td>\n",
       "      <td>1.000000</td>\n",
       "    </tr>\n",
       "  </tbody>\n",
       "</table>\n",
       "</div>"
      ],
      "text/plain": [
       "               is_have_emoji     label\n",
       "is_have_emoji       1.000000  0.004952\n",
       "label               0.004952  1.000000"
      ]
     },
     "execution_count": 221,
     "metadata": {},
     "output_type": "execute_result"
    }
   ],
   "source": [
    "df[['is_have_emoji', 'label']].corr()"
   ]
  },
  {
   "cell_type": "code",
   "execution_count": 222,
   "id": "9e10a81e",
   "metadata": {},
   "outputs": [
    {
     "data": {
      "text/plain": [
       "Counter({False: 44299, True: 1978})"
      ]
     },
     "execution_count": 222,
     "metadata": {},
     "output_type": "execute_result"
    }
   ],
   "source": [
    "Counter(df['is_have_emoji'])"
   ]
  },
  {
   "cell_type": "markdown",
   "id": "fb3e5452",
   "metadata": {},
   "source": [
    "kalau tanda baca nya ! bisa jadi negative --> (contoh: STUPID MOVIE!!!! (bisa jadi negative))"
   ]
  },
  {
   "cell_type": "code",
   "execution_count": 141,
   "id": "7ef00713",
   "metadata": {},
   "outputs": [],
   "source": [
    "# import re"
   ]
  },
  {
   "cell_type": "code",
   "execution_count": 201,
   "id": "106d1eef",
   "metadata": {},
   "outputs": [],
   "source": [
    "is_any_tanda_seru = []\n",
    "for sentence in df['review']:\n",
    "    tmp = re.findall(\"([!]){2,}\", sentence)\n",
    "    if len(tmp) > 0:\n",
    "        is_any_tanda_seru.append(True)\n",
    "    else:\n",
    "        is_any_tanda_seru.append(False)"
   ]
  },
  {
   "cell_type": "code",
   "execution_count": 204,
   "id": "4f96c08d",
   "metadata": {},
   "outputs": [],
   "source": [
    "df['is_any_tanda_seru'] = is_any_tanda_seru"
   ]
  },
  {
   "cell_type": "code",
   "execution_count": 207,
   "id": "53289aa9",
   "metadata": {},
   "outputs": [
    {
     "data": {
      "text/html": [
       "<div>\n",
       "<style scoped>\n",
       "    .dataframe tbody tr th:only-of-type {\n",
       "        vertical-align: middle;\n",
       "    }\n",
       "\n",
       "    .dataframe tbody tr th {\n",
       "        vertical-align: top;\n",
       "    }\n",
       "\n",
       "    .dataframe thead th {\n",
       "        text-align: right;\n",
       "    }\n",
       "</style>\n",
       "<table border=\"1\" class=\"dataframe\">\n",
       "  <thead>\n",
       "    <tr style=\"text-align: right;\">\n",
       "      <th></th>\n",
       "      <th>is_any_tanda_seru</th>\n",
       "      <th>label</th>\n",
       "    </tr>\n",
       "  </thead>\n",
       "  <tbody>\n",
       "    <tr>\n",
       "      <th>is_any_tanda_seru</th>\n",
       "      <td>1.000000</td>\n",
       "      <td>-0.012318</td>\n",
       "    </tr>\n",
       "    <tr>\n",
       "      <th>label</th>\n",
       "      <td>-0.012318</td>\n",
       "      <td>1.000000</td>\n",
       "    </tr>\n",
       "  </tbody>\n",
       "</table>\n",
       "</div>"
      ],
      "text/plain": [
       "                   is_any_tanda_seru     label\n",
       "is_any_tanda_seru           1.000000 -0.012318\n",
       "label                      -0.012318  1.000000"
      ]
     },
     "execution_count": 207,
     "metadata": {},
     "output_type": "execute_result"
    }
   ],
   "source": [
    "df[['is_any_tanda_seru', 'label']].corr()"
   ]
  },
  {
   "cell_type": "code",
   "execution_count": 200,
   "id": "42d17ede",
   "metadata": {},
   "outputs": [
    {
     "data": {
      "text/plain": [
       "'A wonderful little production. <br /><br />The filming technique is very unassuming- very old-time-BBC fashion and gives a comforting, and sometimes discomforting, sense of realism to the entire piece. <br /><br />The actors are extremely well chosen- Michael Sheen not only \"has got all the polari\" but he has all the voices down pat too! You can truly see the seamless editing guided by the references to Williams\\' diary entries, not only is it well worth the watching but it is a terrificly written and performed piece. A masterful production about one of the great master\\'s of comedy and his life. <br /><br />The realism really comes home with the little things: the fantasy of the guard which, rather than use the traditional \\'dream\\' techniques remains solid then disappears. It plays on our knowledge and our senses, particularly with the scenes concerning Orton and Halliwell and the sets (particularly of their flat with Halliwell\\'s murals decorating every surface) are terribly well done.'"
      ]
     },
     "execution_count": 200,
     "metadata": {},
     "output_type": "execute_result"
    }
   ],
   "source": [
    "df['review'][1]"
   ]
  },
  {
   "cell_type": "markdown",
   "id": "a8cb41c7",
   "metadata": {},
   "source": [
    "Kalau ada kalimat sarkasme bisa dideteksi sebagai positive atau negative -> (harus tau apa itu kalimat sarkasme)"
   ]
  },
  {
   "cell_type": "markdown",
   "id": "124aad23",
   "metadata": {},
   "source": [
    "kalau ada certain words misal stupid, dumb, sucks dll bisa dikategorikan sebagai Negative Toxic, yaitung 1 tingkat diatas negative biasa -> (level of harshness of some words)"
   ]
  }
 ],
 "metadata": {
  "kernelspec": {
   "display_name": "Python 3 (ipykernel)",
   "language": "python",
   "name": "python3"
  },
  "language_info": {
   "codemirror_mode": {
    "name": "ipython",
    "version": 3
   },
   "file_extension": ".py",
   "mimetype": "text/x-python",
   "name": "python",
   "nbconvert_exporter": "python",
   "pygments_lexer": "ipython3",
   "version": "3.9.13"
  }
 },
 "nbformat": 4,
 "nbformat_minor": 5
}
